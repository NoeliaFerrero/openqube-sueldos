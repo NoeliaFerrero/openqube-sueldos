{
  "nbformat": 4,
  "nbformat_minor": 0,
  "metadata": {
    "colab": {
      "provenance": [],
      "toc_visible": true,
      "include_colab_link": true
    },
    "kernelspec": {
      "name": "python3",
      "display_name": "Python 3"
    },
    "language_info": {
      "name": "python"
    }
  },
  "cells": [
    {
      "cell_type": "markdown",
      "metadata": {
        "id": "view-in-github",
        "colab_type": "text"
      },
      "source": [
        "<a href=\"https://colab.research.google.com/github/NoeliaFerrero/openqube-sueldos/blob/main/Clase_1_Analisis_Exploratorio.ipynb\" target=\"_parent\"><img src=\"https://colab.research.google.com/assets/colab-badge.svg\" alt=\"Open In Colab\"/></a>"
      ]
    },
    {
      "cell_type": "markdown",
      "metadata": {
        "id": "Hg4m6jIVDoBh"
      },
      "source": [
        "\n",
        "# **MeTCaMPDatos**\n",
        "\n",
        "\n",
        "**Edición 2021**\n",
        "\n",
        "<img src=\"https://i.imgur.com/HnKHks1.png\" height=\"150\" />\n"
      ]
    },
    {
      "cell_type": "markdown",
      "source": [
        "# Nueva sección"
      ],
      "metadata": {
        "id": "WHz4fy0-C5Ve"
      }
    },
    {
      "cell_type": "markdown",
      "metadata": {
        "id": "SSANaFD9J_Y9"
      },
      "source": [
        "## Aventurándonos en el mundo de los **datos**\n",
        "La idea de este notebook es poder introducir algunos conceptos básicos de estadistica descriptiva y sus aplicaciones en Python. Intentaremos familiarizarnos con algunos \n",
        "conceptos (librerias, paquetes y funciones) que nos facilitaran el camino hacia la manipulacion y procesamiento de los datos. \n",
        "\n",
        "## Objetivos\n",
        "- Introducir funciones necesarias para una exploracion inicial del dataset\n",
        "- Brindar nociones basicas de diferentes medidas de estadistica descriptiva aplicadas \n",
        "- Pensar preguntas o problemas y variables de interés \n",
        "- Descubrir un primer insight que aporte valor al analisis\n"
      ]
    },
    {
      "cell_type": "markdown",
      "metadata": {
        "id": "SiexjSvxpT8o"
      },
      "source": [
        "\n",
        "## Herramientas de trabajo \n",
        "En esta oportunidad vamos a utilizar el lenguaje de programación Python junto con Google Colab para realizar nuestro primer analisis de la encuesta de sueldos. Recorda que Colab es un servicio cloud basado en los Notebooks de Jupyter, por lo tanto no es necesario descargar nada. A su vez, nos iniciaremos en un primer uso de herramientas de software libre, es decir no necesitas una licencia para porder utilizarlas. \n",
        "\n",
        "<center>\n",
        "<img src=\"https://i.imgur.com/Cq52LcH.png\" height=\"150\" />\n",
        "</center>\n",
        "\n",
        "\n"
      ]
    },
    {
      "cell_type": "markdown",
      "metadata": {
        "id": "suL1HH9aJesv"
      },
      "source": [
        "## Pero primero: ¡Hola mundo!\n",
        "Si es tu primer experiencia con Python, usá la celda de acá abajo para probar tu primer línea de código. Para imprimirlo en pantalla escribimos print(\"Hola mundo!\")\n"
      ]
    },
    {
      "cell_type": "code",
      "metadata": {
        "id": "HMavlkTcJ4b7"
      },
      "source": [
        "# Probá acá"
      ],
      "execution_count": null,
      "outputs": []
    },
    {
      "cell_type": "markdown",
      "metadata": {
        "id": "DEOhMNkfW_HF"
      },
      "source": [
        "Un ejemplo de lo que podés hacer con Python. Probá cambiando los números y apretando play.\n",
        "\n"
      ]
    },
    {
      "cell_type": "code",
      "metadata": {
        "colab": {
          "base_uri": "https://localhost:8080/"
        },
        "id": "uvWNDQvEW9De",
        "outputId": "8d1bc8a4-2d3c-4e6e-8079-834a41a46e61"
      },
      "source": [
        "a = 3\n",
        "b = 4\n",
        "print(a+b)\n"
      ],
      "execution_count": null,
      "outputs": [
        {
          "output_type": "stream",
          "text": [
            "7\n"
          ],
          "name": "stdout"
        }
      ]
    },
    {
      "cell_type": "markdown",
      "metadata": {
        "id": "5JGkMGEHKov5"
      },
      "source": [
        "\n",
        "## Explorando algunos datos\n",
        "Vamos a trabajar con un set de datos obtenido de **SysArmy** que se denomina **\"Encuesta de Sueldos\"** y se puede consultar en: [este sitio](https://sysarmy.com/blog/posts/resultados-de-la-encuesta-de-sueldos-2021-1/).\n",
        "\n",
        "<center>\n",
        "<img src=\"https://i.imgur.com/ivxTHhG.png\" height=\"150\" />\n",
        "</center>\n",
        "\n",
        "Sysarmy es una organización internacional perteneciente a la comunidad de sistemas que nuclea a profesionales del área para favorecer el contacto y el intercambio de conocimiento de manera informal. Anualmente desarrollan una encuesta de sueldos con el objetivo de obtener información sobre la situación laboral actual en tecnología, evaluan el máximo nivel educativo alcanzado de los encuestados y brindan información sobre diferentes empresas. \n"
      ]
    },
    {
      "cell_type": "markdown",
      "metadata": {
        "id": "g7S0QnSzoXMu"
      },
      "source": [
        "## Que es el EDA? \n",
        "\n",
        "En sus siglas en inglés hace referencia al **Análisis Exploratorio de Datos**. Este es el primer paso que debemos realizar como Data Scientists y consta de una primera revisión del estado de los datos y los consecuentes pasos necesarios para una correcta transformación.\n",
        "\n",
        "La ciencia de datos es una disciplina que te permite convertir datos crudos en entendimiento, comprensión y conocimiento.\n",
        "\n",
        "<center>\n",
        "<img src=\"https://i.imgur.com/jclXnDS.png\" height=\"150\" />\n",
        "</center>\n",
        "\n",
        "\n",
        "En este sentdo, el primer objetivo radica en preguntarnos **¿De que se trata este dataset?**"
      ]
    },
    {
      "cell_type": "markdown",
      "metadata": {
        "id": "WDQoLYY-GQla"
      },
      "source": [
        "## Importación de librerías"
      ]
    },
    {
      "cell_type": "code",
      "metadata": {
        "id": "PXXktPpyDn1_"
      },
      "source": [
        "import numpy as np #importo numpy\n",
        "import pandas as pd #importo pandas"
      ],
      "execution_count": null,
      "outputs": []
    },
    {
      "cell_type": "markdown",
      "metadata": {
        "id": "Tisxy2oeGH6z"
      },
      "source": [
        "## Lectura del dataset"
      ]
    },
    {
      "cell_type": "code",
      "metadata": {
        "id": "esLQzF1ODn0K",
        "colab": {
          "base_uri": "https://localhost:8080/",
          "height": 183
        },
        "outputId": "7e3f5cd2-4fdd-471d-d8a1-a4ceb2d6b99d"
      },
      "source": [
        "url = 'https://raw.githubusercontent.com/MeT2021/MeTCamp-Data-Science/main/sysarmy_2020.csv'\n",
        "df = pd.read_csv(url,error_bad_lines=False)"
      ],
      "execution_count": null,
      "outputs": [
        {
          "output_type": "error",
          "ename": "NameError",
          "evalue": "ignored",
          "traceback": [
            "\u001b[0;31m---------------------------------------------------------------------------\u001b[0m",
            "\u001b[0;31mNameError\u001b[0m                                 Traceback (most recent call last)",
            "\u001b[0;32m<ipython-input-1-0a531735ffcb>\u001b[0m in \u001b[0;36m<module>\u001b[0;34m()\u001b[0m\n\u001b[1;32m      1\u001b[0m \u001b[0murl\u001b[0m \u001b[0;34m=\u001b[0m \u001b[0;34m'https://raw.githubusercontent.com/MeT2021/MeTCamp-Data-Science/main/sysarmy_2020.csv'\u001b[0m\u001b[0;34m\u001b[0m\u001b[0;34m\u001b[0m\u001b[0m\n\u001b[0;32m----> 2\u001b[0;31m \u001b[0mdf\u001b[0m \u001b[0;34m=\u001b[0m \u001b[0mpd\u001b[0m\u001b[0;34m.\u001b[0m\u001b[0mread_csv\u001b[0m\u001b[0;34m(\u001b[0m\u001b[0murl\u001b[0m\u001b[0;34m,\u001b[0m\u001b[0merror_bad_lines\u001b[0m\u001b[0;34m=\u001b[0m\u001b[0;32mFalse\u001b[0m\u001b[0;34m)\u001b[0m\u001b[0;34m\u001b[0m\u001b[0;34m\u001b[0m\u001b[0m\n\u001b[0m",
            "\u001b[0;31mNameError\u001b[0m: name 'pd' is not defined"
          ]
        }
      ]
    },
    {
      "cell_type": "markdown",
      "metadata": {
        "id": "MMYqOtzbDgeJ"
      },
      "source": [
        "Vamos a utilizar `head()` para ver las primeras filas del dataset y `tail()` para ver las últimas."
      ]
    },
    {
      "cell_type": "code",
      "metadata": {
        "id": "f7pIs4ofD6HU"
      },
      "source": [
        "df.head(5)"
      ],
      "execution_count": null,
      "outputs": []
    },
    {
      "cell_type": "code",
      "metadata": {
        "id": "qU24hg2vFmi0"
      },
      "source": [
        "df.tail(5)"
      ],
      "execution_count": null,
      "outputs": []
    },
    {
      "cell_type": "markdown",
      "metadata": {
        "id": "7IyhITosDYFK"
      },
      "source": [
        "Tenemos ahora un objeto (que es una tabla, algo parecido a una hoja de Excel) que se llama `df`.\n",
        "\n",
        "---\n",
        "1. ¿Qué tipos de datos parece tener esta tabla?\n",
        "2. ¿Cuáles son las variables? ¿Cuáles las unidades de análisis?\n",
        "---\n"
      ]
    },
    {
      "cell_type": "code",
      "metadata": {
        "id": "Vxg5zgauINdC"
      },
      "source": [
        "## Unidad de analisis"
      ],
      "execution_count": null,
      "outputs": []
    },
    {
      "cell_type": "markdown",
      "metadata": {
        "id": "apK_Jmm3JDDm"
      },
      "source": [
        "Con `shape`podemos conocer las dimensiones del dataset y con `columns`observamos las columnas"
      ]
    },
    {
      "cell_type": "code",
      "metadata": {
        "colab": {
          "base_uri": "https://localhost:8080/"
        },
        "id": "z8O0iHtYIefq",
        "outputId": "be94273a-751a-4990-babb-670cccbff536"
      },
      "source": [
        "print('Cantidad de Filas y columnas:', df.shape)"
      ],
      "execution_count": null,
      "outputs": [
        {
          "output_type": "stream",
          "text": [
            "Cantidad de Filas y columnas: (6095, 48)\n"
          ],
          "name": "stdout"
        }
      ]
    },
    {
      "cell_type": "code",
      "metadata": {
        "id": "20Mkg8J_Ies0",
        "colab": {
          "base_uri": "https://localhost:8080/"
        },
        "outputId": "c3d7ecf7-3737-4f95-ac11-66ff93f51638"
      },
      "source": [
        "print('Nombre columnas:', df.columns)"
      ],
      "execution_count": null,
      "outputs": [
        {
          "output_type": "stream",
          "text": [
            "Nombre columnas: Index(['Me identifico', 'Tengo', 'Estoy trabajando en',\n",
            "       'Dónde estás trabajando', 'Años de experiencia',\n",
            "       'Años en la empresa actual', 'Años en el puesto actual',\n",
            "       '¿Gente a cargo?', 'Nivel de estudios alcanzado', 'Estado', 'Carrera',\n",
            "       'Universidad', 'Realizaste cursos de especialización',\n",
            "       '¿Contribuís a proyectos open source?', '¿Programás como hobbie?',\n",
            "       'Trabajo de', 'Plataformas', 'Lenguajes de programación',\n",
            "       'Frameworks, herramientas y librerías', 'Bases de datos',\n",
            "       'QA / Testing', 'IDEs', '¿Qué SO usás en tu laptop/PC para trabajar?',\n",
            "       '¿Y en tu celular?', '¿Tenés guardias?', 'Cuánto cobrás por guardia',\n",
            "       '¿Porcentaje, bruto o neto?', 'Tipo de contrato',\n",
            "       'Salario mensual BRUTO (en tu moneda local)',\n",
            "       'Salario mensual NETO (en tu moneda local)', 'Unnamed: 30',\n",
            "       '¿Qué tan conforme estás con tu sueldo?',\n",
            "       'Cómo creés que está tu sueldo con respecto al último semestre',\n",
            "       'Recibís algún tipo de bono', 'A qué está atado el bono',\n",
            "       '¿Tuviste ajustes por inflación en lo que va de 2020?',\n",
            "       '¿De qué % fue el ajuste total?', '¿En qué mes fue el último ajuste?',\n",
            "       '¿Sufriste o presenciaste situaciones de violencia laboral?',\n",
            "       'Orientación sexual', '¿Tenés algún tipo de discapacidad?',\n",
            "       '¿Sentís que esto te dificultó el conseguir trabajo?',\n",
            "       'Cantidad de empleados', 'Actividad principal',\n",
            "       '¿La recomendás como un buen lugar para trabajar?',\n",
            "       '¿Cómo calificás las políticas de diversidad e inclusión?',\n",
            "       'Beneficios extra',\n",
            "       '¿Cuáles considerás que son las mejores empresas de IT para trabajar en este momento, en tu ciudad?'],\n",
            "      dtype='object')\n"
          ],
          "name": "stdout"
        }
      ]
    },
    {
      "cell_type": "markdown",
      "metadata": {
        "id": "7hPqJAun2h5A"
      },
      "source": [
        "## Renombrar columnas"
      ]
    },
    {
      "cell_type": "markdown",
      "metadata": {
        "id": "sO9wLpYI0l64"
      },
      "source": [
        "Para trabajar más cómodamente, renombraremos las columnas del DataFrame. Tengan cuidado de que el orden de los nombres nuevos se corresponda con el contenido de cada columna. Los nombres de las columnas tienen que ser autoexplicativos y transparentes para cualquier persona que lo lea."
      ]
    },
    {
      "cell_type": "code",
      "metadata": {
        "id": "K_G1sEljywQ3"
      },
      "source": [
        "df.columns"
      ],
      "execution_count": null,
      "outputs": []
    },
    {
      "cell_type": "code",
      "metadata": {
        "id": "mhhPGu3L6N75"
      },
      "source": [
        "nuevas_columnas = {\n",
        "  'perfil': {\n",
        "      'Me identifico': 'genero',\n",
        "      'Tengo': 'edad',\n",
        "      'Años de experiencia':\n",
        "      'anos_experiencia',\n",
        "      'Nivel de estudios alcanzado': 'nivel_estudios',\n",
        "      'Estado': 'estado_estudios',\n",
        "      'Carrera': 'carrera',\n",
        "      'Universidad': 'universidad',\n",
        "      'Realizaste cursos de especialización': 'cursos_especializacion',\n",
        "      '¿Contribuís a proyectos open source?': 'contribuciones_open_source',\n",
        "      '¿Programás como hobbie?': 'programa_como_hobbie',\n",
        "      'Orientación sexual': 'orientacion_sexual',\n",
        "      '¿Tenés algún tipo de discapacidad?': 'discapacidad',\n",
        "      '¿Sentís que esto te dificultó el conseguir trabajo?': 'dificultad_ser_contratada_discapacidad',\n",
        "      '¿A qué eventos de tecnología asististe en el último año?': 'eventos_tecnologia_ultimo_anio'\n",
        "  },\n",
        "  'trabajo' : {\n",
        "      'Estoy trabajando en': 'pais',\n",
        "      'Dónde estás trabajando': 'provincia',\n",
        "      'Años en la empresa actual': 'anios_empresa_actual',\n",
        "      'Años en el puesto actual': 'anios_puesto_actual',\n",
        "      '¿Gente a cargo?': 'personas_a_cargo',\n",
        "      'Trabajo de': 'rol',\n",
        "      '¿Tenés guardias?': 'guardias ',\n",
        "      '¿Porcentaje, bruto o neto?': 'guardias_tipo_pago ',\n",
        "      'Tipo de contrato': 'tipo_contrato',\n",
        "      '¿Sufriste o presenciaste situaciones de violencia laboral?': 'violencia_laboral',\n",
        "  },\n",
        "  'herramientas': {\n",
        "      'Plataformas': 'plataforma', \n",
        "      'Lenguajes de programación': 'languagjs_programacion',\n",
        "      'Frameworks, herramientas y librerías': 'frameworks', \n",
        "      'Bases de datos': 'data_bases',\n",
        "      'QA / Testing': 'qa_testing',\n",
        "      'IDEs': 'IDEs',\n",
        "      '¿Qué SO usás en tu laptop/PC para trabajar?': 'sistema_operativo_pc',\n",
        "      '¿Y en tu celular?': 'sistema_operativo_cel'\n",
        "  },\n",
        "  'salario': {\n",
        "      'Cuánto cobrás por guardia': 'guardias_pago',\n",
        "      'Salario mensual BRUTO (en tu moneda local)': 'mensual_BRUTO',\n",
        "      'Salario mensual NETO (en tu moneda local)': 'mensual_NETO',\n",
        "      'Unnamed: 30': 'salario_dolares',\n",
        "      '¿Qué tan conforme estás con tu sueldo?': 'conformidad_sueldo',\n",
        "      'Cómo creés que está tu sueldo con respecto al último semestre': 'comparacion_sueldo_semestre_anterior ',\n",
        "      'Recibís algún tipo de bono': 'bonos',\n",
        "      'A qué está atado el bono': 'bono_atado_a ',\n",
        "      '¿Tuviste ajustes por inflación en lo que va de 2020?': 'ajustes_inflacion_2020 ',\n",
        "      '¿De qué % fue el ajuste total?': 'porcentaje_inflacion_ajuste_2020',\n",
        "      '¿En qué mes fue el último ajuste?': 'mes_ultimo_ajuste_inflacion ',\n",
        "  },\n",
        "  'compania' : {\n",
        "      'Cantidad de empleados': 'cantidad_empleadxs',\n",
        "      'Actividad principal': 'actividad_princiapl',\n",
        "      '¿La recomendás como un buen lugar para trabajar?': 'recomendacion_lugar_trabajo',\n",
        "      '¿Cómo calificás las políticas de diversidad e inclusión?': 'politicas_inclusion',\n",
        "      '¿A cuántos kilómetros de tu casa queda la oficina?': 'distancia_oficina_km',\n",
        "      'Beneficios extra': 'beneficios_extra',\n",
        "      '¿Cuáles considerás que son las mejores empresas de IT para trabajar en este momento, en tu ciudad?': 'mejor_compania_ciudad',\n",
        "  }\n",
        "}\n"
      ],
      "execution_count": null,
      "outputs": []
    },
    {
      "cell_type": "code",
      "metadata": {
        "id": "r0xlsKaBk0RL"
      },
      "source": [
        "def replace_columns(df, nuevas_columnas):\n",
        "  nuevo_nombre_columnas = {\n",
        "    nombre_original: category + '_' + nuevo_nombre # Para agregar en el nombre el prefijo de la categoría, por ejemplo 'perfil', 'trabajo'.\n",
        "    for category, cols in nuevas_columnas.items()\n",
        "    for nombre_original, nuevo_nombre in cols.items()\n",
        "  }\n",
        "  return df.rename(columns=nuevo_nombre_columnas)"
      ],
      "execution_count": null,
      "outputs": []
    },
    {
      "cell_type": "code",
      "metadata": {
        "id": "Vviv_sqXdR5W"
      },
      "source": [
        "df_renamed = replace_columns(df, nuevas_columnas)\n",
        "df_renamed.head()"
      ],
      "execution_count": null,
      "outputs": []
    },
    {
      "cell_type": "markdown",
      "metadata": {
        "id": "Yi5l03AHIVv_"
      },
      "source": [
        "Podemos ver más en detalle las **características del dataset** de la siguente forma:"
      ]
    },
    {
      "cell_type": "code",
      "metadata": {
        "id": "Gw4tRaf1I2p8",
        "colab": {
          "base_uri": "https://localhost:8080/"
        },
        "outputId": "477ad9b8-280c-4723-afe6-75f116b22c34"
      },
      "source": [
        "df_renamed.info()"
      ],
      "execution_count": null,
      "outputs": [
        {
          "output_type": "stream",
          "text": [
            "<class 'pandas.core.frame.DataFrame'>\n",
            "RangeIndex: 6095 entries, 0 to 6094\n",
            "Data columns (total 48 columns):\n",
            " #   Column                                         Non-Null Count  Dtype  \n",
            "---  ------                                         --------------  -----  \n",
            " 0   perfil_genero                                  6095 non-null   object \n",
            " 1   perfil_edad                                    6095 non-null   int64  \n",
            " 2   trabajo_pais                                   6095 non-null   object \n",
            " 3   trabajo_provincia                              6095 non-null   object \n",
            " 4   perfil_anos_experiencia                        6095 non-null   float64\n",
            " 5   trabajo_anios_empresa_actual                   6095 non-null   float64\n",
            " 6   trabajo_anios_puesto_actual                    6095 non-null   float64\n",
            " 7   trabajo_personas_a_cargo                       6095 non-null   int64  \n",
            " 8   perfil_nivel_estudios                          6095 non-null   object \n",
            " 9   perfil_estado_estudios                         6095 non-null   object \n",
            " 10  perfil_carrera                                 5796 non-null   object \n",
            " 11  perfil_universidad                             5561 non-null   object \n",
            " 12  perfil_cursos_especializacion                  6095 non-null   object \n",
            " 13  perfil_contribuciones_open_source              6095 non-null   object \n",
            " 14  perfil_programa_como_hobbie                    6095 non-null   object \n",
            " 15  trabajo_rol                                    6095 non-null   object \n",
            " 16  herramientas_plataforma                        6093 non-null   object \n",
            " 17  herramientas_languagjs_programacion            6094 non-null   object \n",
            " 18  herramientas_frameworks                        6094 non-null   object \n",
            " 19  herramientas_data_bases                        6093 non-null   object \n",
            " 20  herramientas_qa_testing                        6089 non-null   object \n",
            " 21  herramientas_IDEs                              6094 non-null   object \n",
            " 22  herramientas_sistema_operativo_pc              6095 non-null   object \n",
            " 23  herramientas_sistema_operativo_cel             6095 non-null   object \n",
            " 24  trabajo_guardias                               6095 non-null   object \n",
            " 25  salario_guardias_pago                          6095 non-null   float64\n",
            " 26  trabajo_guardias_tipo_pago                     6095 non-null   object \n",
            " 27  trabajo_tipo_contrato                          6095 non-null   object \n",
            " 28  salario_mensual_BRUTO                          6095 non-null   float64\n",
            " 29  salario_mensual_NETO                           5883 non-null   float64\n",
            " 30  salario_salario_dolares                        676 non-null    object \n",
            " 31  salario_conformidad_sueldo                     6095 non-null   int64  \n",
            " 32  salario_comparacion_sueldo_semestre_anterior   6095 non-null   int64  \n",
            " 33  salario_bonos                                  6095 non-null   object \n",
            " 34  salario_bono_atado_a                           6095 non-null   object \n",
            " 35  salario_ajustes_inflacion_2020                 6095 non-null   object \n",
            " 36  salario_porcentaje_inflacion_ajuste_2020       6095 non-null   float64\n",
            " 37  salario_mes_ultimo_ajuste_inflacion            6095 non-null   int64  \n",
            " 38  trabajo_violencia_laboral                      5954 non-null   object \n",
            " 39  perfil_orientacion_sexual                      5912 non-null   object \n",
            " 40  perfil_discapacidad                            600 non-null    object \n",
            " 41  perfil_dificultad_ser_contratada_discapacidad  2207 non-null   object \n",
            " 42  compania_cantidad_empleadxs                    6095 non-null   object \n",
            " 43  compania_actividad_princiapl                   6095 non-null   object \n",
            " 44  compania_recomendacion_lugar_trabajo           6095 non-null   int64  \n",
            " 45  compania_politicas_inclusion                   6095 non-null   int64  \n",
            " 46  compania_beneficios_extra                      6094 non-null   object \n",
            " 47  compania_mejor_compania_ciudad                 1692 non-null   object \n",
            "dtypes: float64(7), int64(7), object(34)\n",
            "memory usage: 2.2+ MB\n"
          ],
          "name": "stdout"
        }
      ]
    },
    {
      "cell_type": "markdown",
      "metadata": {
        "id": "e6lmr8M2Nea5"
      },
      "source": [
        "¿Cuántos **varones**, **mujeres** y **otros** respondieron la encuesta? Lo vemos usando `value_counts()` \n",
        "\n",
        "¿De que tipo de variable se trata?\n",
        "\n",
        "\n"
      ]
    },
    {
      "cell_type": "code",
      "metadata": {
        "id": "3VG5ufvXSrHm",
        "colab": {
          "base_uri": "https://localhost:8080/"
        },
        "outputId": "c0dca6f5-8490-4a0a-b9c2-16bf24a0b1f2"
      },
      "source": [
        "df_renamed[\"perfil_genero\"].value_counts()"
      ],
      "execution_count": null,
      "outputs": [
        {
          "output_type": "execute_result",
          "data": {
            "text/plain": [
              "Hombre    5122\n",
              "Mujer      942\n",
              "Otros       31\n",
              "Name: perfil_genero, dtype: int64"
            ]
          },
          "metadata": {
            "tags": []
          },
          "execution_count": 13
        }
      ]
    },
    {
      "cell_type": "code",
      "metadata": {
        "id": "uUlsm_YrWkpO"
      },
      "source": [
        "# Resolvé aca "
      ],
      "execution_count": null,
      "outputs": []
    },
    {
      "cell_type": "markdown",
      "metadata": {
        "id": "eJxiADzqHBzj"
      },
      "source": [
        "¿Te animás a calcular cuántas personas encuestadas tienen **estudios completos**, en **curso** o **incompletos**?\n",
        "\n",
        "¿Te parece que el tipo de variable es diferente a la anterior?\n",
        "\n"
      ]
    },
    {
      "cell_type": "code",
      "metadata": {
        "id": "87zfROesHBOG"
      },
      "source": [
        "# perfil_nivel_estudios"
      ],
      "execution_count": null,
      "outputs": []
    },
    {
      "cell_type": "markdown",
      "metadata": {
        "id": "jPkukuBaHmWP"
      },
      "source": [
        "Ahora vamos a sacar algunos estadísticos de los campos numéricos del dataset. ¿Qué podemos empezar a observar sobre el **Sueldo Bruto**?"
      ]
    },
    {
      "cell_type": "code",
      "metadata": {
        "id": "XCbScglSIpvI",
        "colab": {
          "base_uri": "https://localhost:8080/",
          "height": 315
        },
        "outputId": "9be9d0a0-e50a-47cf-ab74-f76d10d7dd1a"
      },
      "source": [
        "df_renamed.describe() #Utilizamos describe para calcular los estadísticos"
      ],
      "execution_count": null,
      "outputs": [
        {
          "output_type": "execute_result",
          "data": {
            "text/html": [
              "<div>\n",
              "<style scoped>\n",
              "    .dataframe tbody tr th:only-of-type {\n",
              "        vertical-align: middle;\n",
              "    }\n",
              "\n",
              "    .dataframe tbody tr th {\n",
              "        vertical-align: top;\n",
              "    }\n",
              "\n",
              "    .dataframe thead th {\n",
              "        text-align: right;\n",
              "    }\n",
              "</style>\n",
              "<table border=\"1\" class=\"dataframe\">\n",
              "  <thead>\n",
              "    <tr style=\"text-align: right;\">\n",
              "      <th></th>\n",
              "      <th>perfil_edad</th>\n",
              "      <th>perfil_anos_experiencia</th>\n",
              "      <th>trabajo_anios_empresa_actual</th>\n",
              "      <th>trabajo_anios_puesto_actual</th>\n",
              "      <th>trabajo_personas_a_cargo</th>\n",
              "      <th>salario_guardias_pago</th>\n",
              "      <th>salario_mensual_BRUTO</th>\n",
              "      <th>salario_mensual_NETO</th>\n",
              "      <th>salario_conformidad_sueldo</th>\n",
              "      <th>salario_comparacion_sueldo_semestre_anterior</th>\n",
              "      <th>salario_porcentaje_inflacion_ajuste_2020</th>\n",
              "      <th>salario_mes_ultimo_ajuste_inflacion</th>\n",
              "      <th>compania_recomendacion_lugar_trabajo</th>\n",
              "      <th>compania_politicas_inclusion</th>\n",
              "    </tr>\n",
              "  </thead>\n",
              "  <tbody>\n",
              "    <tr>\n",
              "      <th>count</th>\n",
              "      <td>6095.000000</td>\n",
              "      <td>6095.000000</td>\n",
              "      <td>6095.000000</td>\n",
              "      <td>6095.000000</td>\n",
              "      <td>6095.000000</td>\n",
              "      <td>6095.000000</td>\n",
              "      <td>6.095000e+03</td>\n",
              "      <td>5.883000e+03</td>\n",
              "      <td>6095.000000</td>\n",
              "      <td>6095.000000</td>\n",
              "      <td>6095.000000</td>\n",
              "      <td>6095.000000</td>\n",
              "      <td>6095.000000</td>\n",
              "      <td>6095.000000</td>\n",
              "    </tr>\n",
              "    <tr>\n",
              "      <th>mean</th>\n",
              "      <td>41.181952</td>\n",
              "      <td>8.930861</td>\n",
              "      <td>3.311944</td>\n",
              "      <td>2.889770</td>\n",
              "      <td>2.211649</td>\n",
              "      <td>664.042084</td>\n",
              "      <td>1.240585e+05</td>\n",
              "      <td>9.490795e+04</td>\n",
              "      <td>2.619524</td>\n",
              "      <td>2.363577</td>\n",
              "      <td>10.444511</td>\n",
              "      <td>2.785562</td>\n",
              "      <td>7.340115</td>\n",
              "      <td>7.621001</td>\n",
              "    </tr>\n",
              "    <tr>\n",
              "      <th>std</th>\n",
              "      <td>665.721175</td>\n",
              "      <td>7.161094</td>\n",
              "      <td>4.367742</td>\n",
              "      <td>3.423228</td>\n",
              "      <td>32.983395</td>\n",
              "      <td>10540.523461</td>\n",
              "      <td>1.229124e+05</td>\n",
              "      <td>9.686226e+04</td>\n",
              "      <td>0.858621</td>\n",
              "      <td>0.945713</td>\n",
              "      <td>12.860433</td>\n",
              "      <td>2.837195</td>\n",
              "      <td>2.024057</td>\n",
              "      <td>2.324034</td>\n",
              "    </tr>\n",
              "    <tr>\n",
              "      <th>min</th>\n",
              "      <td>18.000000</td>\n",
              "      <td>0.000000</td>\n",
              "      <td>0.000000</td>\n",
              "      <td>0.000000</td>\n",
              "      <td>0.000000</td>\n",
              "      <td>0.000000</td>\n",
              "      <td>1.000000e+00</td>\n",
              "      <td>1.000000e+00</td>\n",
              "      <td>1.000000</td>\n",
              "      <td>1.000000</td>\n",
              "      <td>0.000000</td>\n",
              "      <td>0.000000</td>\n",
              "      <td>1.000000</td>\n",
              "      <td>1.000000</td>\n",
              "    </tr>\n",
              "    <tr>\n",
              "      <th>25%</th>\n",
              "      <td>27.000000</td>\n",
              "      <td>3.000000</td>\n",
              "      <td>0.000000</td>\n",
              "      <td>1.000000</td>\n",
              "      <td>0.000000</td>\n",
              "      <td>0.000000</td>\n",
              "      <td>6.159500e+04</td>\n",
              "      <td>5.148000e+04</td>\n",
              "      <td>2.000000</td>\n",
              "      <td>2.000000</td>\n",
              "      <td>0.000000</td>\n",
              "      <td>0.000000</td>\n",
              "      <td>6.000000</td>\n",
              "      <td>6.000000</td>\n",
              "    </tr>\n",
              "    <tr>\n",
              "      <th>50%</th>\n",
              "      <td>31.000000</td>\n",
              "      <td>7.000000</td>\n",
              "      <td>2.000000</td>\n",
              "      <td>2.000000</td>\n",
              "      <td>0.000000</td>\n",
              "      <td>0.000000</td>\n",
              "      <td>9.600000e+04</td>\n",
              "      <td>7.800000e+04</td>\n",
              "      <td>3.000000</td>\n",
              "      <td>2.000000</td>\n",
              "      <td>7.000000</td>\n",
              "      <td>2.000000</td>\n",
              "      <td>8.000000</td>\n",
              "      <td>8.000000</td>\n",
              "    </tr>\n",
              "    <tr>\n",
              "      <th>75%</th>\n",
              "      <td>37.000000</td>\n",
              "      <td>13.000000</td>\n",
              "      <td>4.000000</td>\n",
              "      <td>4.000000</td>\n",
              "      <td>0.000000</td>\n",
              "      <td>0.000000</td>\n",
              "      <td>1.450000e+05</td>\n",
              "      <td>1.060000e+05</td>\n",
              "      <td>3.000000</td>\n",
              "      <td>3.000000</td>\n",
              "      <td>18.000000</td>\n",
              "      <td>6.000000</td>\n",
              "      <td>9.000000</td>\n",
              "      <td>10.000000</td>\n",
              "    </tr>\n",
              "    <tr>\n",
              "      <th>max</th>\n",
              "      <td>52000.000000</td>\n",
              "      <td>115.000000</td>\n",
              "      <td>43.000000</td>\n",
              "      <td>34.000000</td>\n",
              "      <td>2500.000000</td>\n",
              "      <td>650000.000000</td>\n",
              "      <td>2.180000e+06</td>\n",
              "      <td>2.080000e+06</td>\n",
              "      <td>4.000000</td>\n",
              "      <td>4.000000</td>\n",
              "      <td>100.000000</td>\n",
              "      <td>8.000000</td>\n",
              "      <td>10.000000</td>\n",
              "      <td>10.000000</td>\n",
              "    </tr>\n",
              "  </tbody>\n",
              "</table>\n",
              "</div>"
            ],
            "text/plain": [
              "        perfil_edad  ...  compania_politicas_inclusion\n",
              "count   6095.000000  ...                   6095.000000\n",
              "mean      41.181952  ...                      7.621001\n",
              "std      665.721175  ...                      2.324034\n",
              "min       18.000000  ...                      1.000000\n",
              "25%       27.000000  ...                      6.000000\n",
              "50%       31.000000  ...                      8.000000\n",
              "75%       37.000000  ...                     10.000000\n",
              "max    52000.000000  ...                     10.000000\n",
              "\n",
              "[8 rows x 14 columns]"
            ]
          },
          "metadata": {
            "tags": []
          },
          "execution_count": 61
        }
      ]
    },
    {
      "cell_type": "code",
      "metadata": {
        "colab": {
          "base_uri": "https://localhost:8080/"
        },
        "id": "o_VeriaSwLOe",
        "outputId": "abb2e2e8-b335-454b-c861-17fb646b84d8"
      },
      "source": [
        "df_renamed['salario_mensual_BRUTO'].mean()"
      ],
      "execution_count": null,
      "outputs": [
        {
          "output_type": "execute_result",
          "data": {
            "text/plain": [
              "124058.54962132902"
            ]
          },
          "metadata": {
            "tags": []
          },
          "execution_count": 66
        }
      ]
    },
    {
      "cell_type": "code",
      "metadata": {
        "colab": {
          "base_uri": "https://localhost:8080/"
        },
        "id": "pMjY7Ofzw9K1",
        "outputId": "fbbe6178-f370-45b9-e383-afdf6dfe8fcb"
      },
      "source": [
        "df_renamed['salario_mensual_BRUTO'].median()"
      ],
      "execution_count": null,
      "outputs": [
        {
          "output_type": "execute_result",
          "data": {
            "text/plain": [
              "96000.0"
            ]
          },
          "metadata": {
            "tags": []
          },
          "execution_count": 67
        }
      ]
    },
    {
      "cell_type": "markdown",
      "metadata": {
        "id": "SO8joWObMEs2"
      },
      "source": [
        "## Análisis de salarios\n",
        "Una de las variables más interesantes del dataset es el **Salario Mensual Bruto** de las personas encuestadas. A su vez, contamos con la variable Género que podría aportarnos información sobre la existencia de brechas de ingresos entre mujeres, varones y diversidades. \n"
      ]
    },
    {
      "cell_type": "markdown",
      "metadata": {
        "id": "7_npUnNDIrjl"
      },
      "source": [
        "Planteamos una primer hipótesis: a mayor nivel de estudio, mejor sueldo tienen las personas encuestadas. \n",
        "Para calcularlo, vamos a quedarnos solamente con las columnas que nos interesan: género, nivel de estudios y salario bruto."
      ]
    },
    {
      "cell_type": "code",
      "metadata": {
        "id": "IcMXeFWB8WV3"
      },
      "source": [
        "df_3 = df_renamed[[\"perfil_genero\", \"perfil_nivel_estudios\", \"salario_mensual_BRUTO\"]] #Seleccionamos las columnas que vamos a utilizar"
      ],
      "execution_count": null,
      "outputs": []
    },
    {
      "cell_type": "code",
      "metadata": {
        "colab": {
          "base_uri": "https://localhost:8080/"
        },
        "id": "0P8u0rEPAtbK",
        "outputId": "de3bf4c1-6f43-4a78-ec88-31f2a1ef558a"
      },
      "source": [
        "print(df_3) #Imprimimos nuestro nuevo dataset\n"
      ],
      "execution_count": null,
      "outputs": [
        {
          "output_type": "stream",
          "text": [
            "     perfil_genero perfil_nivel_estudios  salario_mensual_BRUTO\n",
            "0            Mujer         Universitario                53000.0\n",
            "1           Hombre         Universitario                79000.0\n",
            "2            Mujer            Secundario               160000.0\n",
            "3           Hombre              Posgrado               130000.0\n",
            "4           Hombre         Universitario               140000.0\n",
            "...            ...                   ...                    ...\n",
            "6090        Hombre             Terciario                99000.0\n",
            "6091        Hombre         Universitario                85000.0\n",
            "6092        Hombre             Terciario                47250.0\n",
            "6093        Hombre             Terciario                86000.0\n",
            "6094        Hombre             Terciario                85000.0\n",
            "\n",
            "[6095 rows x 3 columns]\n"
          ],
          "name": "stdout"
        }
      ]
    },
    {
      "cell_type": "markdown",
      "metadata": {
        "id": "qBWhUnKJtrVd"
      },
      "source": [
        "Vamos a calcular el sueldo promedio según el nivel de estudio. Para eso, vamos a agrupar por categorías:  "
      ]
    },
    {
      "cell_type": "code",
      "metadata": {
        "colab": {
          "base_uri": "https://localhost:8080/",
          "height": 294
        },
        "id": "ONqmhRJNAxC1",
        "outputId": "882b84a2-6568-4a26-b113-7ec2b6e18315"
      },
      "source": [
        "df_3.groupby(by=\"perfil_nivel_estudios\").mean()\n"
      ],
      "execution_count": null,
      "outputs": [
        {
          "output_type": "execute_result",
          "data": {
            "text/html": [
              "<div>\n",
              "<style scoped>\n",
              "    .dataframe tbody tr th:only-of-type {\n",
              "        vertical-align: middle;\n",
              "    }\n",
              "\n",
              "    .dataframe tbody tr th {\n",
              "        vertical-align: top;\n",
              "    }\n",
              "\n",
              "    .dataframe thead th {\n",
              "        text-align: right;\n",
              "    }\n",
              "</style>\n",
              "<table border=\"1\" class=\"dataframe\">\n",
              "  <thead>\n",
              "    <tr style=\"text-align: right;\">\n",
              "      <th></th>\n",
              "      <th>salario_mensual_BRUTO</th>\n",
              "    </tr>\n",
              "    <tr>\n",
              "      <th>perfil_nivel_estudios</th>\n",
              "      <th></th>\n",
              "    </tr>\n",
              "  </thead>\n",
              "  <tbody>\n",
              "    <tr>\n",
              "      <th>Doctorado</th>\n",
              "      <td>141973.703000</td>\n",
              "    </tr>\n",
              "    <tr>\n",
              "      <th>Posdoctorado</th>\n",
              "      <td>637035.750000</td>\n",
              "    </tr>\n",
              "    <tr>\n",
              "      <th>Posgrado</th>\n",
              "      <td>167045.428246</td>\n",
              "    </tr>\n",
              "    <tr>\n",
              "      <th>Primario</th>\n",
              "      <td>109000.000000</td>\n",
              "    </tr>\n",
              "    <tr>\n",
              "      <th>Secundario</th>\n",
              "      <td>103639.224196</td>\n",
              "    </tr>\n",
              "    <tr>\n",
              "      <th>Terciario</th>\n",
              "      <td>102537.506139</td>\n",
              "    </tr>\n",
              "    <tr>\n",
              "      <th>Universitario</th>\n",
              "      <td>128010.618984</td>\n",
              "    </tr>\n",
              "  </tbody>\n",
              "</table>\n",
              "</div>"
            ],
            "text/plain": [
              "                       salario_mensual_BRUTO\n",
              "perfil_nivel_estudios                       \n",
              "Doctorado                      141973.703000\n",
              "Posdoctorado                   637035.750000\n",
              "Posgrado                       167045.428246\n",
              "Primario                       109000.000000\n",
              "Secundario                     103639.224196\n",
              "Terciario                      102537.506139\n",
              "Universitario                  128010.618984"
            ]
          },
          "metadata": {
            "tags": []
          },
          "execution_count": 16
        }
      ]
    },
    {
      "cell_type": "markdown",
      "metadata": {
        "id": "ucL40xfMv0oZ"
      },
      "source": [
        "¿Qué pasó con nuestra hipótesis? ¿Podemos confirmarla o refutarla? ¿Qué otros datos agregarían para profundizar en este análisis?"
      ]
    },
    {
      "cell_type": "code",
      "metadata": {
        "id": "5D9A9vXgv-dG"
      },
      "source": [
        "# Responder acá"
      ],
      "execution_count": null,
      "outputs": []
    },
    {
      "cell_type": "markdown",
      "metadata": {
        "id": "TdXO_YM5v995"
      },
      "source": [
        "##Ejercicio 1\n",
        "Ahora vamos a plantear una segunda hipótesis: los varones ganan más en promedio que las mujeres y diversidades. ¿Lo calculamos?"
      ]
    },
    {
      "cell_type": "code",
      "metadata": {
        "id": "UsIzMma9w5lV"
      },
      "source": [
        "# Responder acá\n"
      ],
      "execution_count": null,
      "outputs": []
    },
    {
      "cell_type": "markdown",
      "metadata": {
        "id": "PP8x_1Njw4BX"
      },
      "source": [
        "¿Qué pasó con la segunda hipótesis?"
      ]
    },
    {
      "cell_type": "code",
      "metadata": {
        "id": "SohvPEXfxQdH"
      },
      "source": [
        "# Responder acá"
      ],
      "execution_count": null,
      "outputs": []
    },
    {
      "cell_type": "markdown",
      "metadata": {
        "id": "w5xfJ6Csxd5I"
      },
      "source": [
        "##Ejercicio 2: ¿Te animás a más?\n",
        "Si te quedaste con ganas de profundizar el análisis, te dejamos este espacio para que lo hagas. ¿Qué otras variables tendrías en cuenta para mejorar el análisis? ¿Además del promedio, qué otro estadístico podría ayudarnos a comprender mejor esta diferencia salarial?"
      ]
    },
    {
      "cell_type": "code",
      "metadata": {
        "id": "O16tkzcTyUWV"
      },
      "source": [
        "# Responder acá"
      ],
      "execution_count": null,
      "outputs": []
    },
    {
      "cell_type": "code",
      "metadata": {
        "id": "hRnW-piWyUsp"
      },
      "source": [],
      "execution_count": null,
      "outputs": []
    },
    {
      "cell_type": "code",
      "metadata": {
        "id": "DbDuZX5xyUvq"
      },
      "source": [],
      "execution_count": null,
      "outputs": []
    },
    {
      "cell_type": "code",
      "metadata": {
        "id": "5-1gGd5er2VO"
      },
      "source": [],
      "execution_count": null,
      "outputs": []
    },
    {
      "cell_type": "code",
      "metadata": {
        "id": "T5UwwDn-r3Rx"
      },
      "source": [],
      "execution_count": null,
      "outputs": []
    }
  ]
}